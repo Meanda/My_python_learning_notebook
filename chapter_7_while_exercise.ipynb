{
 "cells": [
  {
   "cell_type": "code",
   "execution_count": 1,
   "metadata": {},
   "outputs": [
    {
     "name": "stdout",
     "output_type": "stream",
     "text": [
      "\n",
      "Please write down the toppings you want:\n",
      "Please enter 'quit' when you are finished.mushroom\n",
      "I'd love to have mushroom!\n",
      "\n",
      "Please write down the toppings you want:\n",
      "Please enter 'quit' when you are finished.tomato\n",
      "I'd love to have tomato!\n",
      "\n",
      "Please write down the toppings you want:\n",
      "Please enter 'quit' when you are finished.bacon\n",
      "I'd love to have bacon!\n",
      "\n",
      "Please write down the toppings you want:\n",
      "Please enter 'quit' when you are finished.quit\n"
     ]
    }
   ],
   "source": [
    "prompt = \"\\nPlease write down the toppings you want:\"\n",
    "prompt += \"\\nPlease enter 'quit' when you are finished.\"\n",
    "active = True\n",
    "while active:\n",
    "    topping = input(prompt)\n",
    "    if topping == 'quit':\n",
    "        active = False\n",
    "    else:\n",
    "        print(f\"I'd love to have {topping}!\")\n",
    "        "
   ]
  },
  {
   "cell_type": "code",
   "execution_count": 2,
   "metadata": {},
   "outputs": [
    {
     "name": "stdout",
     "output_type": "stream",
     "text": [
      "\n",
      "Please write down the toppings you want:\n",
      "Please enter 'quit' when you are finished.quit\n"
     ]
    }
   ],
   "source": [
    "prompt = \"\\nPlease write down the toppings you want:\"\n",
    "prompt += \"\\nPlease enter 'quit' when you are finished.\"\n",
    "\n",
    "while True:\n",
    "    topping = input(prompt)\n",
    "    if topping == 'quit':\n",
    "        break\n",
    "    else:\n",
    "        print(f\"I'd love to have {topping}!\")\n",
    "        "
   ]
  },
  {
   "cell_type": "code",
   "execution_count": 3,
   "metadata": {},
   "outputs": [
    {
     "name": "stdout",
     "output_type": "stream",
     "text": [
      "\n",
      "Please write down the toppings you want:\n",
      "Please enter 'quit' when you are finished.quit\n"
     ]
    }
   ],
   "source": [
    "prompt = \"\\nPlease write down the toppings you want:\"\n",
    "prompt += \"\\nPlease enter 'quit' when you are finished.\"\n",
    "topping = \"\"\n",
    "\n",
    "while topping != 'quit':\n",
    "    topping = input(prompt)\n",
    "    if topping != 'quit':\n",
    "        print(f\"I'd love to have {topping}!\")\n",
    "        "
   ]
  },
  {
   "cell_type": "code",
   "execution_count": 5,
   "metadata": {},
   "outputs": [
    {
     "name": "stdout",
     "output_type": "stream",
     "text": [
      "How old are you ? 12\n",
      "You have to pay $10.\n"
     ]
    }
   ],
   "source": [
    "age = input(\"How old are you ? \")\n",
    "age = int(age)\n",
    "while True:\n",
    "    if age < 3:\n",
    "        print(f\"It's free for you.\")\n",
    "        break\n",
    "    elif age <= 12:\n",
    "        print(f\"You have to pay $10.\")\n",
    "        break\n",
    "    elif age >12:\n",
    "        print(f\"You have to pay $15.\")\n",
    "        break\n",
    "        #不加break就一直循环。脑壳痛。\n"
   ]
  },
  {
   "cell_type": "code",
   "execution_count": 6,
   "metadata": {},
   "outputs": [
    {
     "name": "stdout",
     "output_type": "stream",
     "text": [
      "Verifying user:Candace\n",
      "\n",
      "The following users have been confirmed:\n",
      "Candace\n",
      "Verifying user:Brian\n",
      "\n",
      "The following users have been confirmed:\n",
      "Candace\n",
      "Brian\n",
      "Verifying user:Alice\n",
      "\n",
      "The following users have been confirmed:\n",
      "Candace\n",
      "Brian\n",
      "Alice\n"
     ]
    }
   ],
   "source": [
    "#for循环不能修改元素，while循环可以修改元素！可以将while循环和list和dict一起使用\n",
    "unconfirmed_users = ['alice','brian','candace']\n",
    "confirmed_users = []\n",
    "\n",
    "while unconfirmed_users:\n",
    "    current_user = unconfirmed_users.pop()\n",
    "    print(f\"Verifying user:{current_user.title()}\")\n",
    "    \n",
    "    confirmed_users.append(current_user)\n",
    "    print(\"\\nThe following users have been confirmed:\")\n",
    "    for confirmed_user in confirmed_users:\n",
    "        print(confirmed_user.title())\n",
    "    \n",
    "#这程序太套娃了。"
   ]
  },
  {
   "cell_type": "code",
   "execution_count": 7,
   "metadata": {},
   "outputs": [
    {
     "name": "stdout",
     "output_type": "stream",
     "text": [
      "['dog', 'cat', 'dog', 'goldfish', 'cat', 'rabbit', 'cat']\n",
      "['dog', 'dog', 'goldfish', 'rabbit']\n"
     ]
    }
   ],
   "source": [
    "pets = ['dog','cat','dog','goldfish','cat','rabbit','cat']\n",
    "print(pets)\n",
    "while 'cat' in pets:\n",
    "    pets.remove('cat')\n",
    "    \n",
    "print(pets)"
   ]
  },
  {
   "cell_type": "code",
   "execution_count": 9,
   "metadata": {},
   "outputs": [
    {
     "name": "stdout",
     "output_type": "stream",
     "text": [
      "['dog', 'cat', 'dog', 'goldfish', 'cat', 'rabbit', 'cat']\n",
      "['dog', 'dog', 'goldfish', 'cat', 'rabbit', 'cat']\n"
     ]
    }
   ],
   "source": [
    "pets = ['dog','cat','dog','goldfish','cat','rabbit','cat']\n",
    "print(pets)\n",
    "pets.remove('cat')\n",
    "    \n",
    "print(pets)\n",
    "#这样就是删除1个cat，不是两个啦！~所以说需要建立while循环，但是为啥不能建立for循环呢"
   ]
  },
  {
   "cell_type": "code",
   "execution_count": 13,
   "metadata": {},
   "outputs": [
    {
     "name": "stdout",
     "output_type": "stream",
     "text": [
      "\n",
      "What is your name? meanda\n",
      "Which mountain would you like to climb someday? song mount\n",
      "Would you like to let another person respond? (yes/ no)yes\n",
      "\n",
      "What is your name? amber\n",
      "Which mountain would you like to climb someday? huang mount\n",
      "Would you like to let another person respond? (yes/ no)yes\n",
      "\n",
      "What is your name? ady\n",
      "Which mountain would you like to climb someday? song mount\n",
      "Would you like to let another person respond? (yes/ no)no\n",
      "\n",
      "--- Poll Results ---\n",
      "meanda would like to climb song mount.\n",
      "amber would like to climb huang mount.\n",
      "ady would like to climb song mount.\n"
     ]
    }
   ],
   "source": [
    "responses = {}\n",
    "#设置一个标志，指出调查是否继续。这个要在最开始设置！\n",
    "polling_active = True\n",
    "while polling_active:\n",
    "    #提示输入被调查者的名字与回答。\n",
    "    name = input(\"\\nWhat is your name? \")\n",
    "    response = input(\"Which mountain would you like to climb someday? \")\n",
    "    #将回答储存在字典中。\n",
    "    responses[name] = response\n",
    "    #看看有没有人还需要调整\n",
    "    repeat = input(\"Would you like to let another person respond? (yes/ no)\")\n",
    "    if repeat == 'no':\n",
    "        polling_active = False\n",
    "        \n",
    "#调查结束，显示结果。\n",
    "print(\"\\n--- Poll Results ---\")\n",
    "for name, response in responses.items():\n",
    "    print(f\"{name} would like to climb {response}.\")\n",
    "          "
   ]
  },
  {
   "cell_type": "code",
   "execution_count": 26,
   "metadata": {},
   "outputs": [
    {
     "name": "stdout",
     "output_type": "stream",
     "text": [
      "\n",
      "tinto sandwich has been finished.\n",
      "Now we got sandwiches finished in all as following:\n",
      "\ttinto sandwich\n",
      "\n",
      "hawaiian sandwich has been finished.\n",
      "Now we got sandwiches finished in all as following:\n",
      "\ttinto sandwich\n",
      "\thawaiian sandwich\n",
      "\n",
      "coriander sandwich has been finished.\n",
      "Now we got sandwiches finished in all as following:\n",
      "\ttinto sandwich\n",
      "\thawaiian sandwich\n",
      "\tcoriander sandwich\n"
     ]
    }
   ],
   "source": [
    "#......真的好玩\n",
    "sandwich_orders = ['coriander sandwich','hawaiian sandwich','tinto sandwich']\n",
    "finished_sandwiches=[]\n",
    "while sandwich_orders:\n",
    "    finished_sandwich = sandwich_orders.pop()\n",
    "    print(f\"\\n{finished_sandwich} has been finished.\")\n",
    "    \n",
    "    finished_sandwiches.append(finished_sandwich)\n",
    "    print(f\"Now we got sandwiches finished in all as following:\")\n",
    "    for finished_sandwich in finished_sandwiches:\n",
    "        print(f\"\\t{finished_sandwich}\")\n",
    "    "
   ]
  },
  {
   "cell_type": "code",
   "execution_count": 27,
   "metadata": {},
   "outputs": [
    {
     "name": "stdout",
     "output_type": "stream",
     "text": [
      "\n",
      "Pastrami is sold out!\n",
      "['coriander sandwich', 'hawaiian sandwich', 'tinto sandwich']\n"
     ]
    }
   ],
   "source": [
    "#五香烟熏牛肉卖完了 练习题\n",
    "sandwich_orders = ['coriander sandwich','pastrami sandwich','hawaiian sandwich','tinto sandwich','pastrami sandwich','pastrami sandwich']\n",
    "print(\"\\nPastrami is sold out!\")\n",
    "while 'pastrami sandwich' in sandwich_orders:\n",
    "    sandwich_orders.remove('pastrami sandwich')\n",
    "    finished_sandwiches = sandwich_orders[:]\n",
    "    if 'pastrami sandwich' not in finished_sandwiches:\n",
    "        print(finished_sandwiches)"
   ]
  },
  {
   "cell_type": "code",
   "execution_count": 29,
   "metadata": {},
   "outputs": [
    {
     "name": "stdout",
     "output_type": "stream",
     "text": [
      "/nWhat's your name?meanda\n",
      "If you could visit one place in the world, where would you go?beijing\n",
      "Whould you like another person to input?(YES/NO)YES\n",
      "/nWhat's your name?amber\n",
      "If you could visit one place in the world, where would you go?kunming\n",
      "Whould you like another person to input?(YES/NO)YES\n",
      "/nWhat's your name?ady\n",
      "If you could visit one place in the world, where would you go?zhengzhou\n",
      "Whould you like another person to input?(YES/NO)NO\n",
      "\n",
      "Results:\n",
      "\tmeanda:beijing\n",
      "\tamber:kunming\n",
      "\tady:zhengzhou\n"
     ]
    }
   ],
   "source": [
    "#梦想的度假胜地 练习题\n",
    "visit = {}\n",
    "active = True\n",
    "while active:\n",
    "    name = input(f\"/nWhat's your name?\")\n",
    "    site = input(f\"If you could visit one place in the world, where would you go?\")\n",
    "    visit[name] = site\n",
    "    repeat = input(f\"Whould you like another person to input?(YES/NO)\")\n",
    "    if repeat == 'NO':\n",
    "        active = False\n",
    "print(\"\\nResults:\")\n",
    "for name,site in visit.items():\n",
    "    print(f\"\\t{name}:{site}\")\n"
   ]
  },
  {
   "cell_type": "code",
   "execution_count": null,
   "metadata": {},
   "outputs": [],
   "source": [
    "    "
   ]
  }
 ],
 "metadata": {
  "kernelspec": {
   "display_name": "Python 3",
   "language": "python",
   "name": "python3"
  },
  "language_info": {
   "codemirror_mode": {
    "name": "ipython",
    "version": 3
   },
   "file_extension": ".py",
   "mimetype": "text/x-python",
   "name": "python",
   "nbconvert_exporter": "python",
   "pygments_lexer": "ipython3",
   "version": "3.8.3"
  }
 },
 "nbformat": 4,
 "nbformat_minor": 4
}
