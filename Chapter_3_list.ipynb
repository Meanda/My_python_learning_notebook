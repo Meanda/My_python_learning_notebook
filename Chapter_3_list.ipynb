{
 "cells": [
  {
   "cell_type": "code",
   "execution_count": 1,
   "metadata": {},
   "outputs": [
    {
     "name": "stdout",
     "output_type": "stream",
     "text": [
      "['trek', 'connondale', 'redline', 'specialized']\n"
     ]
    }
   ],
   "source": [
    "bicycles = ['trek','connondale','redline','specialized']\n",
    "print(bicycles)"
   ]
  },
  {
   "cell_type": "code",
   "execution_count": 2,
   "metadata": {},
   "outputs": [
    {
     "name": "stdout",
     "output_type": "stream",
     "text": [
      "trek\n"
     ]
    }
   ],
   "source": [
    "print(bicycles[0])"
   ]
  },
  {
   "cell_type": "code",
   "execution_count": 3,
   "metadata": {},
   "outputs": [
    {
     "name": "stdout",
     "output_type": "stream",
     "text": [
      "Trek\n"
     ]
    }
   ],
   "source": [
    "print(bicycles[0].title())\n"
   ]
  },
  {
   "cell_type": "code",
   "execution_count": 4,
   "metadata": {},
   "outputs": [
    {
     "name": "stdout",
     "output_type": "stream",
     "text": [
      "SPECIALIZED\n"
     ]
    }
   ],
   "source": [
    "print(bicycles[3].upper())"
   ]
  },
  {
   "cell_type": "code",
   "execution_count": 7,
   "metadata": {},
   "outputs": [
    {
     "name": "stdout",
     "output_type": "stream",
     "text": [
      "Specialized\n"
     ]
    }
   ],
   "source": [
    "print(bicycles[-1].title())"
   ]
  },
  {
   "cell_type": "code",
   "execution_count": 8,
   "metadata": {},
   "outputs": [
    {
     "name": "stdout",
     "output_type": "stream",
     "text": [
      "my fist bicycle was a Redline.\n"
     ]
    }
   ],
   "source": [
    "message = f\"my fist bicycle was a {bicycles[-2].title()}.\"\n",
    "print(message)"
   ]
  },
  {
   "cell_type": "code",
   "execution_count": 3,
   "metadata": {},
   "outputs": [
    {
     "name": "stdout",
     "output_type": "stream",
     "text": [
      "I would like to buy my own CAR.\n"
     ]
    }
   ],
   "source": [
    "vehicles = ['bike','motorbike','car','bus','ship','on feet']\n",
    "message = f\"I would like to buy my own {vehicles[2].upper()}.\"\n",
    "print(message)"
   ]
  },
  {
   "cell_type": "code",
   "execution_count": 6,
   "metadata": {},
   "outputs": [
    {
     "name": "stdout",
     "output_type": "stream",
     "text": [
      "Meanda\n",
      "Ady\n",
      "John\n",
      "Amber\n"
     ]
    }
   ],
   "source": [
    "names = ['Meanda','Ady','Amber','John']\n",
    "print(names[0])\n",
    "print(names[1])\n",
    "print(names[-1])\n",
    "print(names[-2])\n"
   ]
  },
  {
   "cell_type": "code",
   "execution_count": 7,
   "metadata": {},
   "outputs": [
    {
     "name": "stdout",
     "output_type": "stream",
     "text": [
      "Hello, Meanda\n"
     ]
    }
   ],
   "source": [
    "message = f\"Hello, {names[0]}\"\n",
    "print(message)"
   ]
  },
  {
   "cell_type": "code",
   "execution_count": 8,
   "metadata": {},
   "outputs": [
    {
     "name": "stdout",
     "output_type": "stream",
     "text": [
      "Miranda\n"
     ]
    }
   ],
   "source": [
    "names[0] = 'Miranda'\n",
    "print(names[0])"
   ]
  },
  {
   "cell_type": "code",
   "execution_count": 9,
   "metadata": {},
   "outputs": [
    {
     "name": "stdout",
     "output_type": "stream",
     "text": [
      "['Miranda', 'Ady', 'Amber', 'John']\n"
     ]
    }
   ],
   "source": [
    "print(names)"
   ]
  },
  {
   "cell_type": "code",
   "execution_count": 10,
   "metadata": {},
   "outputs": [
    {
     "name": "stdout",
     "output_type": "stream",
     "text": [
      "['Miranda', 'Ady', 'Amber', 'John', 'Suzuki']\n"
     ]
    }
   ],
   "source": [
    "names.append('Suzuki')\n",
    "print(names)"
   ]
  },
  {
   "cell_type": "code",
   "execution_count": 11,
   "metadata": {},
   "outputs": [
    {
     "name": "stdout",
     "output_type": "stream",
     "text": [
      "['Meanda', 'Miranda', 'Ady', 'Amber']\n"
     ]
    }
   ],
   "source": [
    "name_list = []\n",
    "name_list.append('Meanda')\n",
    "name_list.append('Miranda')\n",
    "name_list.append('Ady')\n",
    "name_list.append('Amber')\n",
    "print(name_list)"
   ]
  },
  {
   "cell_type": "code",
   "execution_count": 12,
   "metadata": {},
   "outputs": [
    {
     "name": "stdout",
     "output_type": "stream",
     "text": [
      "['Suzuki', 'Meanda', 'Miranda', 'Ady', 'Amber']\n"
     ]
    }
   ],
   "source": [
    "name_list.insert(0,'Suzuki')\n",
    "print(name_list)"
   ]
  },
  {
   "cell_type": "code",
   "execution_count": 14,
   "metadata": {},
   "outputs": [
    {
     "name": "stdout",
     "output_type": "stream",
     "text": [
      "['Suzuki', 'Meanda', 'Miranda', 'John', 'Ady', 'Amber']\n"
     ]
    }
   ],
   "source": [
    "name_list.insert(3,'John')\n",
    "print(name_list)"
   ]
  },
  {
   "cell_type": "code",
   "execution_count": 15,
   "metadata": {},
   "outputs": [
    {
     "name": "stdout",
     "output_type": "stream",
     "text": [
      "['Suzuki', 'Miranda', 'John', 'Ady', 'Amber']\n"
     ]
    }
   ],
   "source": [
    "del name_list[1]\n",
    "print(name_list)"
   ]
  },
  {
   "cell_type": "code",
   "execution_count": 16,
   "metadata": {},
   "outputs": [
    {
     "name": "stdout",
     "output_type": "stream",
     "text": [
      "Amber\n"
     ]
    }
   ],
   "source": [
    "#pop：弹出 也可用于删除元素，删除的是list的尾项,但是，这个尾项还是存在在代码中的，只不过和原来的List分开了\n",
    "#del-delete:删除了就没有了，没办法再用了。且，要知道在列表中的位置才能删\n",
    "popped_name_list = name_list.pop()\n",
    "print(popped_name_list)\n"
   ]
  },
  {
   "cell_type": "code",
   "execution_count": 17,
   "metadata": {},
   "outputs": [
    {
     "name": "stdout",
     "output_type": "stream",
     "text": [
      "['Suzuki', 'Miranda', 'John', 'Ady']\n"
     ]
    }
   ],
   "source": [
    "print(name_list)\n"
   ]
  },
  {
   "cell_type": "code",
   "execution_count": 18,
   "metadata": {},
   "outputs": [
    {
     "name": "stdout",
     "output_type": "stream",
     "text": [
      "Ady\n"
     ]
    }
   ],
   "source": [
    "new_here = name_list.pop()\n",
    "print(new_here)"
   ]
  },
  {
   "cell_type": "code",
   "execution_count": 19,
   "metadata": {},
   "outputs": [
    {
     "name": "stdout",
     "output_type": "stream",
     "text": [
      "We get a new classmate in our family called Ady.\n"
     ]
    }
   ],
   "source": [
    "print(f\"We get a new classmate in our family called {new_here}.\")"
   ]
  },
  {
   "cell_type": "code",
   "execution_count": 20,
   "metadata": {},
   "outputs": [
    {
     "name": "stdout",
     "output_type": "stream",
     "text": [
      "['Miranda', 'John']\n"
     ]
    }
   ],
   "source": [
    "#remove可以不用知道列表中的位置，直接删掉\n",
    "name_list.remove('Suzuki')\n",
    "print(name_list)"
   ]
  },
  {
   "cell_type": "code",
   "execution_count": 21,
   "metadata": {},
   "outputs": [
    {
     "name": "stdout",
     "output_type": "stream",
     "text": [
      "['Miranda']\n",
      "\n",
      "The only boy in our class is John.\n"
     ]
    }
   ],
   "source": [
    "the_only_male = \"John\"\n",
    "name_list.remove(the_only_male)\n",
    "print(name_list)\n",
    "print(f\"\\nThe only boy in our class is {the_only_male}.\")"
   ]
  },
  {
   "cell_type": "code",
   "execution_count": 22,
   "metadata": {},
   "outputs": [
    {
     "name": "stdout",
     "output_type": "stream",
     "text": [
      "['Miku', 'Ambert', 'Gibson', 'Freud']\n"
     ]
    }
   ],
   "source": [
    "invitation_list = ['Miku','Ambert','Gibson','Freud']\n",
    "print(invitation_list)"
   ]
  },
  {
   "cell_type": "code",
   "execution_count": 23,
   "metadata": {},
   "outputs": [
    {
     "name": "stdout",
     "output_type": "stream",
     "text": [
      "I want to invite Mikuto have dinner with me.\n"
     ]
    }
   ],
   "source": [
    "message = (f\"I want to invite {invitation_list[0]}to have dinner with me.\")\n",
    "print(message)"
   ]
  },
  {
   "cell_type": "code",
   "execution_count": 24,
   "metadata": {},
   "outputs": [
    {
     "name": "stdout",
     "output_type": "stream",
     "text": [
      "['Miku', 'Ambert', 'Gibson', 'Freud', 'Watson']\n"
     ]
    }
   ],
   "source": [
    "invitation_list.append('Watson')\n",
    "print(invitation_list)"
   ]
  },
  {
   "cell_type": "code",
   "execution_count": 25,
   "metadata": {},
   "outputs": [
    {
     "name": "stdout",
     "output_type": "stream",
     "text": [
      "Because Nonehas his work to do ,he can't come.\n"
     ]
    }
   ],
   "source": [
    "person_unable_come = invitation_list.remove('Freud')\n",
    "print(f\"Because {person_unable_come}has his work to do ,he can't come.\")\n"
   ]
  },
  {
   "cell_type": "code",
   "execution_count": 26,
   "metadata": {},
   "outputs": [
    {
     "name": "stdout",
     "output_type": "stream",
     "text": [
      "['Miku', 'Ambert', 'Gibson', 'Watson']\n"
     ]
    }
   ],
   "source": [
    "print(invitation_list)"
   ]
  },
  {
   "cell_type": "code",
   "execution_count": 33,
   "metadata": {},
   "outputs": [
    {
     "name": "stdout",
     "output_type": "stream",
     "text": [
      "['Anna', 'Anna', 'Ringo', 'Anna', 'Ringo', 'Anna', 'Lacon', 'Anna', 'Lacon', 'Miku', 'Lacon', 'Ambert', 'Gibson', 'Watson', 'Ringo', 'Ringo', 'Ringo', 'Lacon', 'Lacon']\n",
      "I want to invite Anna to have dinner with me\n",
      "I want to invite Anna to have dinner with me\n",
      "I want to invite Ringo to have dinner with me\n",
      "I want to invite Anna to have dinner with me\n",
      "I want to invite Ringo to have dinner with me\n"
     ]
    }
   ],
   "source": [
    "invitation_list.insert(0,'Anna')\n",
    "invitation_list.insert(2,'Ringo')\n",
    "invitation_list.append('Lacon')\n",
    "print(invitation_list)\n",
    "print(f\"I want to invite {invitation_list[0]} to have dinner with me\")\n",
    "print(f\"I want to invite {invitation_list[1]} to have dinner with me\")\n",
    "print(f\"I want to invite {invitation_list[2]} to have dinner with me\")\n",
    "print(f\"I want to invite {invitation_list[3]} to have dinner with me\")\n",
    "print(f\"I want to invite {invitation_list[4]} to have dinner with me\")"
   ]
  },
  {
   "cell_type": "code",
   "execution_count": 34,
   "metadata": {},
   "outputs": [
    {
     "name": "stdout",
     "output_type": "stream",
     "text": [
      "['Anna', 'Anna', 'Ringo', 'Anna', 'Ringo', 'Anna', 'Lacon', 'Anna', 'Lacon', 'Miku', 'Lacon', 'Ambert', 'Gibson', 'Watson', 'Ringo', 'Ringo', 'Ringo', 'Lacon']\n"
     ]
    }
   ],
   "source": [
    "invitation_list.pop()\n",
    "print(invitation_list)"
   ]
  },
  {
   "cell_type": "code",
   "execution_count": 35,
   "metadata": {},
   "outputs": [
    {
     "name": "stdout",
     "output_type": "stream",
     "text": [
      "['Anna', 'Anna', 'Ringo', 'Anna', 'Ringo', 'Anna', 'Lacon', 'Anna', 'Lacon', 'Miku']\n"
     ]
    }
   ],
   "source": [
    "invitation_list.pop()\n",
    "invitation_list.pop()\n",
    "invitation_list.pop()\n",
    "invitation_list.pop()\n",
    "invitation_list.pop()\n",
    "invitation_list.pop()\n",
    "invitation_list.pop()\n",
    "invitation_list.pop()\n",
    "print(invitation_list)"
   ]
  },
  {
   "cell_type": "code",
   "execution_count": 36,
   "metadata": {},
   "outputs": [
    {
     "name": "stdout",
     "output_type": "stream",
     "text": [
      "['Anna', 'Anna']\n"
     ]
    }
   ],
   "source": [
    "invitation_list.pop()\n",
    "invitation_list.pop()\n",
    "invitation_list.pop()\n",
    "invitation_list.pop()\n",
    "invitation_list.pop()\n",
    "invitation_list.pop()\n",
    "invitation_list.pop()\n",
    "invitation_list.pop()\n",
    "print(invitation_list)"
   ]
  },
  {
   "cell_type": "code",
   "execution_count": 38,
   "metadata": {},
   "outputs": [
    {
     "name": "stdout",
     "output_type": "stream",
     "text": [
      "Anna is still in the list of invitation\n"
     ]
    }
   ],
   "source": [
    "print(f'{invitation_list[0]} is still in the list of invitation')"
   ]
  },
  {
   "cell_type": "code",
   "execution_count": 39,
   "metadata": {},
   "outputs": [
    {
     "name": "stdout",
     "output_type": "stream",
     "text": [
      "[]\n"
     ]
    }
   ],
   "source": [
    "del invitation_list[1]\n",
    "del invitation_list[0]\n",
    "print(invitation_list)"
   ]
  },
  {
   "cell_type": "code",
   "execution_count": 40,
   "metadata": {},
   "outputs": [
    {
     "name": "stdout",
     "output_type": "stream",
     "text": [
      "['audi', 'bmw', 'subaru', 'toyota']\n"
     ]
    }
   ],
   "source": [
    "#sort:排序，这个是按字母排序，永久修改\n",
    "cars = ['bmw','audi','toyota','subaru']\n",
    "cars.sort()\n",
    "print(cars)"
   ]
  },
  {
   "cell_type": "code",
   "execution_count": 41,
   "metadata": {},
   "outputs": [
    {
     "name": "stdout",
     "output_type": "stream",
     "text": [
      "['toyota', 'subaru', 'bmw', 'audi']\n"
     ]
    }
   ],
   "source": [
    "cars.sort(reverse=True)\n",
    "print(cars)\n",
    "#括号内加一个参数 reverse=True 就可以倒序了，参数就是条件啊！！！！括号里都是参数。如果说括号里没有东西证明不需要额外参数，insert就需要两个参数，加入位置和加入对象。title就不需要参数。"
   ]
  },
  {
   "cell_type": "code",
   "execution_count": 42,
   "metadata": {},
   "outputs": [
    {
     "name": "stdout",
     "output_type": "stream",
     "text": [
      "['toyota', 'subaru', 'bmw', 'audi']\n",
      "['audi', 'bmw', 'subaru', 'toyota']\n"
     ]
    }
   ],
   "source": [
    "#sorted()是个像print一样的函数啊\n",
    "print(cars)\n",
    "print(sorted(cars))\n"
   ]
  },
  {
   "cell_type": "code",
   "execution_count": 44,
   "metadata": {},
   "outputs": [
    {
     "name": "stdout",
     "output_type": "stream",
     "text": [
      "['toyota', 'subaru', 'bmw', 'audi']\n"
     ]
    }
   ],
   "source": [
    "print(sorted(cars,reverse=True))"
   ]
  },
  {
   "cell_type": "code",
   "execution_count": 45,
   "metadata": {},
   "outputs": [
    {
     "name": "stdout",
     "output_type": "stream",
     "text": [
      "None\n"
     ]
    }
   ],
   "source": [
    "print(cars.reverse())"
   ]
  },
  {
   "cell_type": "code",
   "execution_count": 46,
   "metadata": {},
   "outputs": [
    {
     "name": "stdout",
     "output_type": "stream",
     "text": [
      "['toyota', 'subaru', 'bmw', 'audi']\n"
     ]
    }
   ],
   "source": [
    "cars.reverse()\n",
    "print(cars)"
   ]
  },
  {
   "cell_type": "code",
   "execution_count": 47,
   "metadata": {},
   "outputs": [
    {
     "data": {
      "text/plain": [
       "4"
      ]
     },
     "execution_count": 47,
     "metadata": {},
     "output_type": "execute_result"
    }
   ],
   "source": [
    "len(cars)"
   ]
  },
  {
   "cell_type": "code",
   "execution_count": 48,
   "metadata": {},
   "outputs": [
    {
     "name": "stdout",
     "output_type": "stream",
     "text": [
      "['beijing', 'britais', 'chengdu', 'japan']\n",
      "['beijing', 'chengdu', 'japan', 'britais']\n",
      "['japan', 'chengdu', 'britais', 'beijing']\n",
      "['beijing', 'chengdu', 'japan', 'britais']\n"
     ]
    }
   ],
   "source": [
    "visiting_sites = ['beijing','chengdu','japan','britais']\n",
    "print(sorted(visiting_sites))\n",
    "print(visiting_sites)\n",
    "print(sorted(visiting_sites,reverse=True))\n",
    "print(visiting_sites)\n"
   ]
  },
  {
   "cell_type": "code",
   "execution_count": 50,
   "metadata": {},
   "outputs": [
    {
     "name": "stdout",
     "output_type": "stream",
     "text": [
      "['britais', 'japan', 'chengdu', 'beijing']\n"
     ]
    }
   ],
   "source": [
    "visiting_sites.reverse()\n",
    "print(visiting_sites)"
   ]
  },
  {
   "cell_type": "code",
   "execution_count": 51,
   "metadata": {},
   "outputs": [
    {
     "name": "stdout",
     "output_type": "stream",
     "text": [
      "['beijing', 'britais', 'chengdu', 'japan']\n"
     ]
    }
   ],
   "source": [
    "visiting_sites.sort()\n",
    "print(visiting_sites)"
   ]
  },
  {
   "cell_type": "code",
   "execution_count": 52,
   "metadata": {},
   "outputs": [
    {
     "data": {
      "text/plain": [
       "4"
      ]
     },
     "execution_count": 52,
     "metadata": {},
     "output_type": "execute_result"
    }
   ],
   "source": [
    "len(visiting_sites)"
   ]
  },
  {
   "cell_type": "code",
   "execution_count": null,
   "metadata": {},
   "outputs": [],
   "source": []
  }
 ],
 "metadata": {
  "kernelspec": {
   "display_name": "Python 3",
   "language": "python",
   "name": "python3"
  },
  "language_info": {
   "codemirror_mode": {
    "name": "ipython",
    "version": 3
   },
   "file_extension": ".py",
   "mimetype": "text/x-python",
   "name": "python",
   "nbconvert_exporter": "python",
   "pygments_lexer": "ipython3",
   "version": "3.8.3"
  }
 },
 "nbformat": 4,
 "nbformat_minor": 4
}
