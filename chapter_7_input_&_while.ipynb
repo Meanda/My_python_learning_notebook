{
 "cells": [
  {
   "cell_type": "code",
   "execution_count": 7,
   "metadata": {},
   "outputs": [
    {
     "name": "stdout",
     "output_type": "stream",
     "text": [
      "\n",
      "Introduction for Meanda:\n",
      "Meanda Zhang\n",
      "Beijing\n",
      "\n",
      "Introduction for Ringo:\n",
      "Ringo Sheena\n",
      "Japan\n",
      "\n",
      "Introduction for Virginia:\n",
      "Virginia Woolf\n",
      "Britain\n"
     ]
    }
   ],
   "source": [
    "#先接chapter 6 的练习\n",
    "names = {}\n",
    "names['meanda'] = {'first':'meanda','last':'zhang','location':'beijing'}\n",
    "names['ringo'] = {'first':'ringo','last':'sheena','location':'japan'}\n",
    "names['virginia'] = {'first':'virginia','last':'woolf','location':'britain'}\n",
    "for name,info in names.items():\n",
    "    print(f\"\\nIntroduction for {name.title()}:\")\n",
    "    total_name = f\"{info['first'].title()} {info['last'].title()}\"\n",
    "    \n",
    "    print(total_name)\n",
    "    print(info['location'].title())\n",
    "        "
   ]
  },
  {
   "cell_type": "code",
   "execution_count": 12,
   "metadata": {},
   "outputs": [
    {
     "name": "stdout",
     "output_type": "stream",
     "text": [
      "\n",
      "pet's name:Annie\n",
      "\tclass:Dog\n",
      "\tlocation:John\n",
      "\n",
      "pet's name:Fibo\n",
      "\tclass:Cat\n",
      "\tlocation:Amber\n",
      "\n",
      "pet's name:Puff\n",
      "\tclass:Cat\n",
      "\tlocation:Puff_Owner\n"
     ]
    }
   ],
   "source": [
    "pets = {\n",
    "    'annie':{\n",
    "        'class':'dog',\n",
    "        'owner':'john',\n",
    "    },\n",
    "    'fibo':{\n",
    "        'class':'cat',\n",
    "        'owner':'amber',\n",
    "    },\n",
    "    'puff':{\n",
    "        'class':'cat',\n",
    "        'owner':'puff_owner',\n",
    "        \n",
    "    }\n",
    "}\n",
    "for name, info in pets.items():\n",
    "    print(f\"\\npet's name:{name.title()}\")\n",
    "    print(f\"\\tclass:{info['class'].title()}\")\n",
    "    print(f\"\\tlocation:{info['owner'].title()}\")\n",
    "    "
   ]
  },
  {
   "cell_type": "code",
   "execution_count": 16,
   "metadata": {},
   "outputs": [
    {
     "name": "stdout",
     "output_type": "stream",
     "text": [
      "\n",
      "Meanda's favorite places are:\n",
      "\tBeijing\n",
      "\tJapan\n",
      "\tHerland\n",
      "\n",
      "Amber's favorite places are:\n",
      "\tJapan\n",
      "\tKunming\n",
      "\n",
      "Ady's favorite places are:\n",
      "\tJinan\n",
      "\tZhengzhou\n"
     ]
    }
   ],
   "source": [
    "favorite_places = {\n",
    "    'meanda':['beijing','japan','herland'],\n",
    "    'amber':['japan','kunming'],\n",
    "    'ady':['jinan','zhengzhou'],\n",
    "}\n",
    "for name, places in favorite_places.items():\n",
    "    print(f\"\\n{name.title()}'s favorite places are:\")\n",
    "    for place in places:\n",
    "        print(f\"\\t{place.title()}\")"
   ]
  },
  {
   "cell_type": "code",
   "execution_count": 19,
   "metadata": {},
   "outputs": [
    {
     "name": "stdout",
     "output_type": "stream",
     "text": [
      "\n",
      "city's Beijing\n",
      "\tBeijing\n",
      "\tBeijing is very old.\n",
      "\n",
      "city's Zhengzhou\n",
      "\tHenan\n",
      "\tZhengzhou is very new.\n",
      "\n",
      "city's Chengdu\n",
      "\tSichuan\n",
      "\tChengdu is very delicious.\n"
     ]
    }
   ],
   "source": [
    "cities = {\n",
    "    'beijing':{\n",
    "        'located_in':'beijing',\n",
    "        'population':2000000,\n",
    "        'fact':'old',\n",
    "    },\n",
    "    'zhengzhou':{\n",
    "        'located_in':'henan',\n",
    "        'population':1000000,\n",
    "        'fact':'new',\n",
    "    },\n",
    "    'chengdu':{\n",
    "        'located_in':'sichuan',\n",
    "        'population':1000000,\n",
    "        'fact':'delicious',\n",
    "    },\n",
    "}\n",
    "for city, info in cities.items():\n",
    "    print(f\"\\ncity's {city.title()}\")\n",
    "    print(f\"\\t{info['located_in'].title()}\")\n",
    "    print(f\"\\t{city.title()} is very {info['fact']}.\")"
   ]
  },
  {
   "cell_type": "code",
   "execution_count": 20,
   "metadata": {},
   "outputs": [
    {
     "name": "stdout",
     "output_type": "stream",
     "text": [
      "Tell me someting, and I will repeat it back to you:a a a a a \n",
      "a a a a a \n"
     ]
    }
   ],
   "source": [
    "message = input('Tell me someting, and I will repeat it back to you:')\n",
    "print(message)\n",
    "#这个好玩，给了一个prompt，让用户输入之后，再给反馈。"
   ]
  },
  {
   "cell_type": "code",
   "execution_count": 1,
   "metadata": {},
   "outputs": [
    {
     "name": "stdout",
     "output_type": "stream",
     "text": [
      "Please enter your name: meanda\n",
      "\n",
      "Hello,meanda!\n"
     ]
    }
   ],
   "source": [
    "name = input(\"Please enter your name: \")\n",
    "print(f\"\\nHello,{name}!\")\n",
    "    "
   ]
  },
  {
   "cell_type": "code",
   "execution_count": 2,
   "metadata": {},
   "outputs": [
    {
     "name": "stdout",
     "output_type": "stream",
     "text": [
      "If you tell us who you are, we can personalize the messages you see: \n",
      "What is your first name? meanda\n",
      "\n",
      "Hello,meanda!\n"
     ]
    }
   ],
   "source": [
    "prompt = \"If you tell us who you are, we can personalize the messages you see: \"\n",
    "prompt += \"\\nWhat is your first name? \"\n",
    "\n",
    "name = input(prompt)\n",
    "print(f\"\\nHello,{name}!\")\n",
    "#+=这是什么奇怪操作，把在前面赋给变量prompt的字符串末尾附加了一个字符串。所以说那个input会在这一句之后输\n",
    "\n"
   ]
  },
  {
   "cell_type": "code",
   "execution_count": 3,
   "metadata": {},
   "outputs": [
    {
     "name": "stdout",
     "output_type": "stream",
     "text": [
      "How old are you?21\n"
     ]
    }
   ],
   "source": [
    "#使用input()函数，python自动将用户输入解读为字符串\n",
    "age = input(\"How old are you?\")\n"
   ]
  },
  {
   "cell_type": "code",
   "execution_count": 4,
   "metadata": {},
   "outputs": [
    {
     "data": {
      "text/plain": [
       "'21'"
      ]
     },
     "execution_count": 4,
     "metadata": {},
     "output_type": "execute_result"
    }
   ],
   "source": [
    "age"
   ]
  },
  {
   "cell_type": "code",
   "execution_count": 5,
   "metadata": {},
   "outputs": [
    {
     "name": "stdout",
     "output_type": "stream",
     "text": [
      "How old are you?21\n"
     ]
    }
   ],
   "source": [
    "age = input(\"How old are you?\")\n"
   ]
  },
  {
   "cell_type": "code",
   "execution_count": 6,
   "metadata": {},
   "outputs": [
    {
     "data": {
      "text/plain": [
       "True"
      ]
     },
     "execution_count": 6,
     "metadata": {},
     "output_type": "execute_result"
    }
   ],
   "source": [
    "age = int(age)\n",
    "age >= 18\n",
    "#不这么写，输出来的就是字符串.使用函数int()可将输出换为字符串。"
   ]
  },
  {
   "cell_type": "code",
   "execution_count": 1,
   "metadata": {},
   "outputs": [
    {
     "name": "stdout",
     "output_type": "stream",
     "text": [
      "How tall are you, in inches? 5\n",
      "\n",
      "You'll be able to ride when you're a little older.\n"
     ]
    }
   ],
   "source": [
    "height = input(\"How tall are you, in inches? \")\n",
    "height = int(height)\n",
    "\n",
    "if height >= 48:\n",
    "    print(\"\\nYou're tall enough to ride!\")\n",
    "else:\n",
    "    print(\"\\nYou'll be able to ride when you're a little older.\")"
   ]
  },
  {
   "cell_type": "code",
   "execution_count": 2,
   "metadata": {},
   "outputs": [
    {
     "data": {
      "text/plain": [
       "1"
      ]
     },
     "execution_count": 2,
     "metadata": {},
     "output_type": "execute_result"
    }
   ],
   "source": [
    "#求摸运算符% ：将两个数相除并返回余数\n",
    "4 % 3"
   ]
  },
  {
   "cell_type": "code",
   "execution_count": 3,
   "metadata": {},
   "outputs": [
    {
     "data": {
      "text/plain": [
       "2"
      ]
     },
     "execution_count": 3,
     "metadata": {},
     "output_type": "execute_result"
    }
   ],
   "source": [
    "5 % 3"
   ]
  },
  {
   "cell_type": "code",
   "execution_count": 4,
   "metadata": {},
   "outputs": [
    {
     "data": {
      "text/plain": [
       "0"
      ]
     },
     "execution_count": 4,
     "metadata": {},
     "output_type": "execute_result"
    }
   ],
   "source": [
    "6 % 3"
   ]
  },
  {
   "cell_type": "code",
   "execution_count": 6,
   "metadata": {},
   "outputs": [
    {
     "name": "stdout",
     "output_type": "stream",
     "text": [
      " Enter a number, and I'll tell you if it's even or odd:15\n",
      "\n",
      "The number 15 is odd.\n"
     ]
    }
   ],
   "source": [
    "#这个不会返回商是多少来着。可以利用这个特点来判断一个数是否为另一个数的约数，或者是奇数还是偶数\n",
    "number = input(\" Enter a number, and I'll tell you if it's even or odd:\")\n",
    "number = int(number)\n",
    "\n",
    "if number % 2 == 0:\n",
    "    print(f\"\\nThe number {number} is even.\")\n",
    "else:\n",
    "    print(f\"\\nThe number {number} is odd.\")\n",
    "          "
   ]
  },
  {
   "cell_type": "code",
   "execution_count": 7,
   "metadata": {},
   "outputs": [
    {
     "name": "stdout",
     "output_type": "stream",
     "text": [
      "What car do you want? audi\n",
      "\n",
      "Let me see if I can find you a audi.\n"
     ]
    }
   ],
   "source": [
    "car = input(\"What car do you want? \")\n",
    "print(f\"\\nLet me see if I can find you a {car}.\")"
   ]
  },
  {
   "cell_type": "code",
   "execution_count": 8,
   "metadata": {},
   "outputs": [
    {
     "name": "stdout",
     "output_type": "stream",
     "text": [
      "Could I ask how many people do you have? 7\n",
      "\n",
      "We have empty tables here. Please. \n"
     ]
    }
   ],
   "source": [
    "number = input(\"Could I ask how many people do you have? \")\n",
    "number = int()\n",
    "\n",
    "if number >8:\n",
    "    print(\"\\nThere is no more empty table. \")\n",
    "else: \n",
    "    print(\"\\nWe have empty tables here. Please. \")"
   ]
  },
  {
   "cell_type": "code",
   "execution_count": 9,
   "metadata": {},
   "outputs": [
    {
     "name": "stdout",
     "output_type": "stream",
     "text": [
      "Please input a number:100\n",
      "This number a multiple of 10. \n"
     ]
    }
   ],
   "source": [
    "number = input(\"Please input a number:\")\n",
    "number = int(number)\n",
    "\n",
    "if number % 10 == 0:\n",
    "    print(\"This number a multiple of 10. \")\n",
    "else:\n",
    "    print(\"This number is not a multiple of 10.\")\n",
    "    "
   ]
  },
  {
   "cell_type": "code",
   "execution_count": 10,
   "metadata": {},
   "outputs": [
    {
     "name": "stdout",
     "output_type": "stream",
     "text": [
      "1\n",
      "2\n",
      "3\n",
      "4\n",
      "5\n"
     ]
    }
   ],
   "source": [
    "#While循环\n",
    "current_number = 1\n",
    "while current_number <=5:\n",
    "    print(current_number)\n",
    "    current_number += 1\n",
    "    #这行意思是current_number = current_number + 1\n",
    "    "
   ]
  },
  {
   "cell_type": "code",
   "execution_count": 11,
   "metadata": {},
   "outputs": [
    {
     "name": "stdout",
     "output_type": "stream",
     "text": [
      "\n",
      "Tell me something, and I will repeat it back to you:\n",
      "Enter 'quit' to end the program. 1\n",
      "1\n",
      "\n",
      "Tell me something, and I will repeat it back to you:\n",
      "Enter 'quit' to end the program. quit\n",
      "quit\n"
     ]
    }
   ],
   "source": [
    "#while 何时退出\n",
    "prompt = \"\\nTell me something, and I will repeat it back to you:\"\n",
    "prompt += \"\\nEnter 'quit' to end the program. \"\n",
    "message = \"\"\n",
    "while message != 'quit':\n",
    "    message = input(prompt)\n",
    "    print(message)\n",
    "#开始的时候写消息，然后创建message 空集，如果不写这一行，底下while message != 'quit'就会报错说没有定义message.然后给message赋值给input函数的结果。"
   ]
  },
  {
   "cell_type": "code",
   "execution_count": 12,
   "metadata": {},
   "outputs": [
    {
     "name": "stdout",
     "output_type": "stream",
     "text": [
      "\n",
      "Tell me something, and I will repeat it back to you:\n",
      "Enter 'quit' to end the program. a\n",
      "a\n",
      "\n",
      "Tell me something, and I will repeat it back to you:\n",
      "Enter 'quit' to end the program. quit\n"
     ]
    }
   ],
   "source": [
    "prompt = \"\\nTell me something, and I will repeat it back to you:\"\n",
    "prompt += \"\\nEnter 'quit' to end the program. \"\n",
    "message = \"\"\n",
    "while message != 'quit':\n",
    "    message = input(prompt)\n",
    "    if message != 'quit':\n",
    "        print(message)\n",
    "        #这样改动之后，输入quit就不会打印出来quit了呢。\n",
    "        "
   ]
  },
  {
   "cell_type": "code",
   "execution_count": 17,
   "metadata": {},
   "outputs": [
    {
     "name": "stdout",
     "output_type": "stream",
     "text": [
      "\n",
      "Tell me something, and I will repeat it back to you:\n",
      "Enter 'quit' to end the program. quit\n"
     ]
    }
   ],
   "source": [
    "prompt = \"\\nTell me something, and I will repeat it back to you:\"\n",
    "prompt += \"\\nEnter 'quit' to end the program. \"\n",
    "\n",
    "active = True\n",
    "while active:\n",
    "    message = input(prompt)\n",
    "    if message == 'quit':\n",
    "        active = False\n",
    "    else:\n",
    "        print(message)\n",
    "#这个叫标志（flag)，用来观测状态来着，状态对就一致while，不对就停止了。"
   ]
  },
  {
   "cell_type": "code",
   "execution_count": 18,
   "metadata": {},
   "outputs": [
    {
     "name": "stdout",
     "output_type": "stream",
     "text": [
      "\n",
      "Please enter the name of a city you have visited:\n",
      "(Enter 'quit' when you are finished.)beijing\n",
      "I'd love to go to Beijing!\n",
      "\n",
      "Please enter the name of a city you have visited:\n",
      "(Enter 'quit' when you are finished.)quit\n"
     ]
    }
   ],
   "source": [
    "prompt = \"\\nPlease enter the name of a city you have visited:\"\n",
    "prompt += \"\\n(Enter 'quit' when you are finished.)\"\n",
    "while True:\n",
    "    city = input(prompt)\n",
    "    if city == 'quit':\n",
    "        break\n",
    "    else:\n",
    "        print(f\"I'd love to go to {city.title()}!\")"
   ]
  },
  {
   "cell_type": "code",
   "execution_count": 20,
   "metadata": {},
   "outputs": [
    {
     "name": "stdout",
     "output_type": "stream",
     "text": [
      "1\n",
      "3\n",
      "5\n",
      "7\n",
      "9\n"
     ]
    }
   ],
   "source": [
    "current_number = 0\n",
    "while current_number < 10:\n",
    "    current_number += 1\n",
    "    if current_number % 2 == 0:\n",
    "        continue\n",
    "    \n",
    "    print(current_number)\n",
    "    #在这里其实 continue是执行下一个循环了，跳过print,如果是奇数才会输出。"
   ]
  },
  {
   "cell_type": "code",
   "execution_count": null,
   "metadata": {},
   "outputs": [],
   "source": [
    "x = 1\n",
    "while x<= 5:\n",
    "    print(x)\n",
    "    x += 1"
   ]
  },
  {
   "cell_type": "code",
   "execution_count": null,
   "metadata": {},
   "outputs": [],
   "source": [
    "1 + 2"
   ]
  },
  {
   "cell_type": "code",
   "execution_count": null,
   "metadata": {},
   "outputs": [],
   "source": []
  },
  {
   "cell_type": "code",
   "execution_count": null,
   "metadata": {},
   "outputs": [],
   "source": [
    "prompt = \"\\nPlease write down the toppings you want:\"\n",
    "prompt += \"\\nPlease enter 'quit' when you are finished.\"\n",
    "active = True\n",
    "while active:\n",
    "    topping = input(prompt)\n",
    "    if topping == 'quit':\n",
    "        active = False\n",
    "    else:\n",
    "        print(f\"I'd love to have {topping}!\")\n",
    "        "
   ]
  },
  {
   "cell_type": "code",
   "execution_count": null,
   "metadata": {},
   "outputs": [],
   "source": []
  }
 ],
 "metadata": {
  "kernelspec": {
   "display_name": "Python 3",
   "language": "python",
   "name": "python3"
  },
  "language_info": {
   "codemirror_mode": {
    "name": "ipython",
    "version": 3
   },
   "file_extension": ".py",
   "mimetype": "text/x-python",
   "name": "python",
   "nbconvert_exporter": "python",
   "pygments_lexer": "ipython3",
   "version": "3.8.3"
  }
 },
 "nbformat": 4,
 "nbformat_minor": 4
}
