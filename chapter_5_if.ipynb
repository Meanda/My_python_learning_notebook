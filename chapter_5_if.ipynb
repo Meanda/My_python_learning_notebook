{
 "cells": [
  {
   "cell_type": "code",
   "execution_count": 1,
   "metadata": {},
   "outputs": [
    {
     "name": "stdout",
     "output_type": "stream",
     "text": [
      "Audi\n",
      "BMW\n",
      "Subaru\n",
      "Toyota\n"
     ]
    }
   ],
   "source": [
    "cars = ['audi','bmw','subaru','toyota']\n",
    "for car in cars:\n",
    "    if car == 'bmw':\n",
    "        print(car.upper())\n",
    "    else:\n",
    "        print(car.title())\n",
    "\n",
    "#用==的原因在于，一个=为赋值，两个=为检查是否为真值。\n",
    "        "
   ]
  },
  {
   "cell_type": "code",
   "execution_count": 2,
   "metadata": {},
   "outputs": [
    {
     "data": {
      "text/plain": [
       "True"
      ]
     },
     "execution_count": 2,
     "metadata": {},
     "output_type": "execute_result"
    }
   ],
   "source": [
    "car = 'bmw'\n",
    "car == 'bmw'\n",
    "#你看，所以在这会出现一个判断是Ttrue还是False"
   ]
  },
  {
   "cell_type": "code",
   "execution_count": 3,
   "metadata": {},
   "outputs": [
    {
     "data": {
      "text/plain": [
       "False"
      ]
     },
     "execution_count": 3,
     "metadata": {},
     "output_type": "execute_result"
    }
   ],
   "source": [
    "car == \"audi\"\n"
   ]
  },
  {
   "cell_type": "code",
   "execution_count": 4,
   "metadata": {},
   "outputs": [
    {
     "data": {
      "text/plain": [
       "False"
      ]
     },
     "execution_count": 4,
     "metadata": {},
     "output_type": "execute_result"
    }
   ],
   "source": [
    "car = \"Audi\"\n",
    "car == \"audi\"\n"
   ]
  },
  {
   "cell_type": "code",
   "execution_count": 5,
   "metadata": {},
   "outputs": [
    {
     "data": {
      "text/plain": [
       "True"
      ]
     },
     "execution_count": 5,
     "metadata": {},
     "output_type": "execute_result"
    }
   ],
   "source": [
    "car.lower() == \"audi\""
   ]
  },
  {
   "cell_type": "code",
   "execution_count": 10,
   "metadata": {},
   "outputs": [
    {
     "name": "stdout",
     "output_type": "stream",
     "text": [
      "Hold the anchovies!\n"
     ]
    }
   ],
   "source": [
    "#!=是不等于的意思\n",
    "requested_topping = 'mushrooms'\n",
    "\n",
    "if requested_topping != 'anchovies':\n",
    "    print(\"Hold the anchovies!\")"
   ]
  },
  {
   "cell_type": "code",
   "execution_count": 11,
   "metadata": {},
   "outputs": [
    {
     "data": {
      "text/plain": [
       "True"
      ]
     },
     "execution_count": 11,
     "metadata": {},
     "output_type": "execute_result"
    }
   ],
   "source": [
    "#==可用于数值比较\n",
    "age = 18\n",
    "age == 18\n"
   ]
  },
  {
   "cell_type": "code",
   "execution_count": 12,
   "metadata": {},
   "outputs": [
    {
     "name": "stdout",
     "output_type": "stream",
     "text": [
      "That is not the correct answer.Please try again!\n"
     ]
    }
   ],
   "source": [
    "answer =17\n",
    "if answer != 42:\n",
    "    print(\"That is not the correct answer.Please try again!\")"
   ]
  },
  {
   "cell_type": "code",
   "execution_count": 15,
   "metadata": {},
   "outputs": [
    {
     "data": {
      "text/plain": [
       "False"
      ]
     },
     "execution_count": 15,
     "metadata": {},
     "output_type": "execute_result"
    }
   ],
   "source": [
    "#也可用于检查数字和比较数字\n",
    "age = 19\n",
    "age < 21\n",
    "age <=21\n",
    "age > 21\n",
    "age >=21"
   ]
  },
  {
   "cell_type": "code",
   "execution_count": 16,
   "metadata": {},
   "outputs": [
    {
     "data": {
      "text/plain": [
       "False"
      ]
     },
     "execution_count": 16,
     "metadata": {},
     "output_type": "execute_result"
    }
   ],
   "source": [
    "#也可检查多项数字\n",
    "age_0 = 22\n",
    "age_1 = 18\n",
    "age_0 >=21 and age_1 >=21\n"
   ]
  },
  {
   "cell_type": "code",
   "execution_count": 17,
   "metadata": {},
   "outputs": [
    {
     "data": {
      "text/plain": [
       "True"
      ]
     },
     "execution_count": 17,
     "metadata": {},
     "output_type": "execute_result"
    }
   ],
   "source": [
    "age_1 = 22\n",
    "age_0>=21 and age_1>=21"
   ]
  },
  {
   "cell_type": "code",
   "execution_count": 19,
   "metadata": {},
   "outputs": [
    {
     "data": {
      "text/plain": [
       "True"
      ]
     },
     "execution_count": 19,
     "metadata": {},
     "output_type": "execute_result"
    }
   ],
   "source": [
    "requested_toppings = ['mushrooms', 'onions','pineapple']\n",
    "'mushrooms' in requested_toppings"
   ]
  },
  {
   "cell_type": "code",
   "execution_count": 20,
   "metadata": {},
   "outputs": [
    {
     "data": {
      "text/plain": [
       "False"
      ]
     },
     "execution_count": 20,
     "metadata": {},
     "output_type": "execute_result"
    }
   ],
   "source": [
    "'peperoni' in requested_toppings"
   ]
  },
  {
   "cell_type": "code",
   "execution_count": 21,
   "metadata": {},
   "outputs": [
    {
     "name": "stdout",
     "output_type": "stream",
     "text": [
      "Marie, you can post a response if you wish.\n"
     ]
    }
   ],
   "source": [
    "banned_users = ['andrew','carolina','david']\n",
    "user = 'marie'\n",
    "if user not in banned_users:\n",
    "    print(f\"{user.title()}, you can post a response if you wish.\")\n",
    "#这个是 if not in "
   ]
  },
  {
   "cell_type": "code",
   "execution_count": 23,
   "metadata": {},
   "outputs": [
    {
     "name": "stdout",
     "output_type": "stream",
     "text": [
      "Marie, you can post a response if you wish.\n",
      "John, you can post a response if you wish.\n",
      "David, you are banned.\n"
     ]
    }
   ],
   "source": [
    "users = ['marie','john','david']\n",
    "for user in users:\n",
    "    if user not in banned_users:\n",
    "        print(f\"{user.title()}, you can post a response if you wish.\")\n",
    "    else:\n",
    "        print(f\"{user.title()}, you are banned.\")\n",
    "        "
   ]
  },
  {
   "cell_type": "code",
   "execution_count": 24,
   "metadata": {},
   "outputs": [],
   "source": [
    "#布尔表达式，布尔值,用于记录条件。咋用呢？\n",
    "game_active = True\n",
    "can_edit = False\n"
   ]
  },
  {
   "cell_type": "code",
   "execution_count": 26,
   "metadata": {},
   "outputs": [
    {
     "name": "stdout",
     "output_type": "stream",
     "text": [
      "Is car == 'subaru'? I predict Ture.\n",
      "\n",
      "Is car == 'audi'? I predict False.\n"
     ]
    }
   ],
   "source": [
    "car = 'subaru'\n",
    "car != 'audi'\n",
    "if car == 'subaru':\n",
    "    print(\"Is car == 'subaru'? I predict Ture.\")\n",
    "if car != 'audi':\n",
    "    print(\"\\nIs car == 'audi'? I predict False.\")"
   ]
  },
  {
   "cell_type": "code",
   "execution_count": 28,
   "metadata": {},
   "outputs": [
    {
     "data": {
      "text/plain": [
       "False"
      ]
     },
     "execution_count": 28,
     "metadata": {},
     "output_type": "execute_result"
    }
   ],
   "source": [
    "car == 'audi'"
   ]
  },
  {
   "cell_type": "code",
   "execution_count": 29,
   "metadata": {},
   "outputs": [
    {
     "data": {
      "text/plain": [
       "True"
      ]
     },
     "execution_count": 29,
     "metadata": {},
     "output_type": "execute_result"
    }
   ],
   "source": [
    "car == 'subaru'"
   ]
  },
  {
   "cell_type": "code",
   "execution_count": 30,
   "metadata": {},
   "outputs": [
    {
     "data": {
      "text/plain": [
       "True"
      ]
     },
     "execution_count": 30,
     "metadata": {},
     "output_type": "execute_result"
    }
   ],
   "source": [
    "car != 'audi'"
   ]
  },
  {
   "cell_type": "code",
   "execution_count": 31,
   "metadata": {},
   "outputs": [
    {
     "data": {
      "text/plain": [
       "False"
      ]
     },
     "execution_count": 31,
     "metadata": {},
     "output_type": "execute_result"
    }
   ],
   "source": [
    "car != 'subaru'"
   ]
  },
  {
   "cell_type": "code",
   "execution_count": 32,
   "metadata": {},
   "outputs": [
    {
     "data": {
      "text/plain": [
       "True"
      ]
     },
     "execution_count": 32,
     "metadata": {},
     "output_type": "execute_result"
    }
   ],
   "source": [
    "age = 25\n",
    "age == 25"
   ]
  },
  {
   "cell_type": "code",
   "execution_count": 33,
   "metadata": {},
   "outputs": [
    {
     "data": {
      "text/plain": [
       "True"
      ]
     },
     "execution_count": 33,
     "metadata": {},
     "output_type": "execute_result"
    }
   ],
   "source": [
    "age !=24"
   ]
  },
  {
   "cell_type": "code",
   "execution_count": 34,
   "metadata": {},
   "outputs": [
    {
     "data": {
      "text/plain": [
       "False"
      ]
     },
     "execution_count": 34,
     "metadata": {},
     "output_type": "execute_result"
    }
   ],
   "source": [
    "llist = []\n",
    "llist == [3]"
   ]
  },
  {
   "cell_type": "code",
   "execution_count": 35,
   "metadata": {},
   "outputs": [
    {
     "data": {
      "text/plain": [
       "False"
      ]
     },
     "execution_count": 35,
     "metadata": {},
     "output_type": "execute_result"
    }
   ],
   "source": [
    "llist = ['john']\n",
    "llist == ['anna']"
   ]
  },
  {
   "cell_type": "code",
   "execution_count": 36,
   "metadata": {},
   "outputs": [
    {
     "data": {
      "text/plain": [
       "True"
      ]
     },
     "execution_count": 36,
     "metadata": {},
     "output_type": "execute_result"
    }
   ],
   "source": [
    "llist == ['john']"
   ]
  },
  {
   "cell_type": "code",
   "execution_count": 37,
   "metadata": {},
   "outputs": [
    {
     "data": {
      "text/plain": [
       "False"
      ]
     },
     "execution_count": 37,
     "metadata": {},
     "output_type": "execute_result"
    }
   ],
   "source": [
    "llist == ['John']"
   ]
  },
  {
   "cell_type": "code",
   "execution_count": 47,
   "metadata": {},
   "outputs": [
    {
     "name": "stdout",
     "output_type": "stream",
     "text": [
      "['john', 'meanda', 'anna']\n"
     ]
    }
   ],
   "source": [
    "llist = ['john']\n",
    "llist.append('anna')\n",
    "llist.insert(1,'meanda')\n",
    "print(llist)"
   ]
  },
  {
   "cell_type": "code",
   "execution_count": 61,
   "metadata": {},
   "outputs": [
    {
     "name": "stdout",
     "output_type": "stream",
     "text": [
      "john\n"
     ]
    },
    {
     "data": {
      "text/plain": [
       "False"
      ]
     },
     "execution_count": 61,
     "metadata": {},
     "output_type": "execute_result"
    }
   ],
   "source": [
    "nname = 'John'\n",
    "nname.lower() == 'john'\n",
    "print(llist[0])\n",
    "llist[0] == 'John'\n",
    "    "
   ]
  },
  {
   "cell_type": "code",
   "execution_count": 62,
   "metadata": {},
   "outputs": [
    {
     "name": "stdout",
     "output_type": "stream",
     "text": [
      "Well done!\n"
     ]
    }
   ],
   "source": [
    "number_1 = 100\n",
    "number_2 = 101\n",
    "if number_1 >=100 and number_2 >= 100:\n",
    "    print(\"Well done!\")"
   ]
  },
  {
   "cell_type": "code",
   "execution_count": 64,
   "metadata": {},
   "outputs": [
    {
     "name": "stdout",
     "output_type": "stream",
     "text": [
      "Try again!\n"
     ]
    }
   ],
   "source": [
    "if number_1 >100 or number_2 < 100:\n",
    "    print('Well done!')\n",
    "else:\n",
    "    print('Try again!')"
   ]
  },
  {
   "cell_type": "code",
   "execution_count": 67,
   "metadata": {},
   "outputs": [
    {
     "name": "stdout",
     "output_type": "stream",
     "text": [
      "100\n"
     ]
    }
   ],
   "source": [
    "llist = [100,101,102]\n",
    "for value in llist:\n",
    "    if value == 100:\n",
    "        print(value)\n",
    "        \n",
    "    "
   ]
  },
  {
   "cell_type": "code",
   "execution_count": 71,
   "metadata": {},
   "outputs": [
    {
     "name": "stdout",
     "output_type": "stream",
     "text": [
      "value = False\n",
      "value = False\n",
      "value = False\n"
     ]
    }
   ],
   "source": [
    "for value in llist:\n",
    "    if value == 103:\n",
    "        print(value)\n",
    "    else: \n",
    "        print(\"value = False\")"
   ]
  },
  {
   "cell_type": "code",
   "execution_count": 72,
   "metadata": {},
   "outputs": [
    {
     "name": "stdout",
     "output_type": "stream",
     "text": [
      "You are not old enough to vote!\n",
      "You are old enough to vote!\n"
     ]
    }
   ],
   "source": [
    "ages = [12,19,]\n",
    "for age in ages:\n",
    "    if age >= 18:\n",
    "        print(\"You are old enough to vote!\")\n",
    "    else:\n",
    "        print(\"You are not old enough to vote!\")"
   ]
  },
  {
   "cell_type": "code",
   "execution_count": 79,
   "metadata": {},
   "outputs": [
    {
     "name": "stdout",
     "output_type": "stream",
     "text": [
      "Your admission cost is $25.\n",
      "Your admission cost is $40.\n",
      "Your admission cost is $40.\n",
      "Your admission cost is $0.\n"
     ]
    }
   ],
   "source": [
    "ages = [12,19,24,2,70]\n",
    "for age in ages:\n",
    "    if age < 4:\n",
    "        print('Your admission cost is $0.')\n",
    "    elif age < 18:\n",
    "        print('Your admission cost is $25.')\n",
    "    else: \n",
    "        print('Your admission cost is $40.')"
   ]
  },
  {
   "cell_type": "code",
   "execution_count": 81,
   "metadata": {},
   "outputs": [
    {
     "name": "stdout",
     "output_type": "stream",
     "text": [
      "Your admission cost is $25.\n",
      "Your admission cost is $40.\n",
      "Your admission cost is $40.\n",
      "Your admission cost is $0.\n"
     ]
    }
   ],
   "source": [
    "for age in ages:\n",
    "    if age < 4:\n",
    "        price = 0\n",
    "    elif age < 18:\n",
    "        price = 25\n",
    "    else:\n",
    "        price = 40\n",
    "    print(f'Your admission cost is ${price}.')"
   ]
  },
  {
   "cell_type": "code",
   "execution_count": 82,
   "metadata": {},
   "outputs": [
    {
     "name": "stdout",
     "output_type": "stream",
     "text": [
      "Your admission cost is $25.\n",
      "Your admission cost is $40.\n",
      "Your admission cost is $40.\n",
      "Your admission cost is $0.\n",
      "Your admission cost is $20.\n"
     ]
    }
   ],
   "source": [
    "ages = [12,19,24,2,70]\n",
    "for age in ages:\n",
    "    if age < 4:\n",
    "        price = 0\n",
    "    elif age < 18:\n",
    "        price = 25\n",
    "    elif age < 65:\n",
    "        price = 40\n",
    "    else:\n",
    "        price = 20\n",
    "    print(f'Your admission cost is ${price}.')"
   ]
  },
  {
   "cell_type": "code",
   "execution_count": 83,
   "metadata": {},
   "outputs": [
    {
     "name": "stdout",
     "output_type": "stream",
     "text": [
      "Your admission cost is $25.\n",
      "Your admission cost is $25.\n",
      "Your admission cost is $25.\n",
      "Your admission cost is $0.\n",
      "Your admission cost is $20.\n"
     ]
    }
   ],
   "source": [
    "ages = [12,19,24,2,70]\n",
    "for age in ages:\n",
    "    if age < 4:\n",
    "        price = 0\n",
    "    elif age < 18:\n",
    "        price = 25\n",
    "    elif age >= 65:\n",
    "        price = 20\n",
    "    print(f'Your admission cost is ${price}.')\n",
    "    #不是强制要求必须要有else板块来着着着着着，看限制条件在哪，可以自由切换来着着着。else是剩下的所有，其实挺没啥用的感觉？"
   ]
  },
  {
   "cell_type": "code",
   "execution_count": 84,
   "metadata": {},
   "outputs": [
    {
     "name": "stdout",
     "output_type": "stream",
     "text": [
      "Adding mushrooms.\n",
      "Adding extra cheese\n",
      "\n",
      "Finished making your pizza!\n"
     ]
    }
   ],
   "source": [
    "requested_toppings = ['mushrooms','extra cheese']\n",
    "if 'mushrooms' in requested_toppings:\n",
    "    print('Adding mushrooms.')\n",
    "if 'pepperoni' in requested_toppings:\n",
    "    print('Adding peperoni.')\n",
    "if 'extra cheese' in requested_toppings:\n",
    "    print('Adding extra cheese')\n",
    "\n",
    "print('\\nFinished making your pizza!')\n",
    "#if elfi else 是或者，但是if,if,if 是都要呀~"
   ]
  },
  {
   "cell_type": "code",
   "execution_count": 86,
   "metadata": {},
   "outputs": [
    {
     "name": "stdout",
     "output_type": "stream",
     "text": [
      "Adding mushrooms.\n",
      "Adding pepperoni.\n",
      "Adding extra cheese.\n",
      "\n",
      "Finished making your pizza!\n"
     ]
    }
   ],
   "source": [
    "requested_toppings = ['mushrooms','pepperoni','extra cheese']\n",
    "for topping in requested_toppings :\n",
    "    if topping =='mushrooms':\n",
    "        print('Adding mushrooms.')\n",
    "    elif topping == 'pepperoni':\n",
    "        print('Adding pepperoni.')\n",
    "    elif topping == 'extra cheese':\n",
    "        print('Adding extra cheese.')\n",
    "        \n",
    "print('\\nFinished making your pizza!')\n",
    "#哈哈哈哈哈哈，使用if elif else也可以实现都要，只要加上for循环就行啦，就可以把列表里的元素给反复执行完，但是这里就不能用if in了，需要使元素topping赋值给不同的具体元素\n",
    "        "
   ]
  },
  {
   "cell_type": "code",
   "execution_count": 91,
   "metadata": {},
   "outputs": [
    {
     "name": "stdout",
     "output_type": "stream",
     "text": [
      "You got 5 scores!\n",
      "You got 10 scores!\n",
      "You got 15 scores!\n"
     ]
    }
   ],
   "source": [
    "alien_colors = ['green','yellow','red']\n",
    "for alien_color in alien_colors:\n",
    "    if alien_color == 'green':\n",
    "        print('You got 5 scores!')\n",
    "    elif alien_color == 'yellow':\n",
    "        print('You got 10 scores!')\n",
    "    elif alien_color == 'red':\n",
    "        print('You got 15 scores!')\n",
    "    "
   ]
  },
  {
   "cell_type": "code",
   "execution_count": 92,
   "metadata": {},
   "outputs": [
    {
     "name": "stdout",
     "output_type": "stream",
     "text": [
      "This person is an infant.\n",
      "This person is a child.\n",
      "This person is a teen.\n",
      "This person is an adult.\n",
      "This person is an adult.\n",
      "This person is a old adult\n"
     ]
    }
   ],
   "source": [
    "ages = [2,5,15,25,40,70]\n",
    "for age in ages:\n",
    "    if age < 2:\n",
    "        print(\"This person is a baby.\")\n",
    "    elif age <=4:\n",
    "        print(\"This person is an infant.\")\n",
    "    elif age <=13:\n",
    "        print(\"This person is a child.\")\n",
    "    elif age <=20:\n",
    "        print(\"This person is a teen.\")\n",
    "    elif age <=65:\n",
    "        print(\"This person is an adult.\")\n",
    "    elif age >65:\n",
    "        print(\"This person is a old adult\")\n"
   ]
  },
  {
   "cell_type": "code",
   "execution_count": 93,
   "metadata": {},
   "outputs": [
    {
     "name": "stdout",
     "output_type": "stream",
     "text": [
      "You really like mango!\n",
      "You really like pineapple!\n",
      "You really like strawberry!\n",
      "You really like tangerine!\n",
      "You really like pineapple and mango!\n"
     ]
    }
   ],
   "source": [
    "favorite_fruits = ['mango','pineapple','strawberry','tangerine']\n",
    "if \"mango\" in favorite_fruits:\n",
    "    print(\"You really like mango!\")\n",
    "if \"pineapple\" in favorite_fruits:\n",
    "    print(\"You really like pineapple!\")\n",
    "if \"strawberry\" in favorite_fruits:\n",
    "    print(\"You really like strawberry!\")\n",
    "if \"tangerine\" in favorite_fruits:\n",
    "    print(\"You really like tangerine!\")\n",
    "if \"pineapple\" and \"mango\" in favorite_fruits:\n",
    "    print(\"You really like pineapple and mango!\")\n",
    "        "
   ]
  },
  {
   "cell_type": "code",
   "execution_count": 95,
   "metadata": {},
   "outputs": [
    {
     "name": "stdout",
     "output_type": "stream",
     "text": [
      "Adding mushrooms\n",
      "Sorry, we are out of green peppers right now.\n",
      "Adding extra cheese\n",
      "\n",
      "Finished making your pizza!\n"
     ]
    }
   ],
   "source": [
    "requested_toppings = ['mushrooms', 'green peppers','extra cheese']\n",
    "for requested_topping in requested_toppings:\n",
    "    if requested_topping == \"green peppers\":\n",
    "        print(\"Sorry, we are out of green peppers right now.\")\n",
    "    else:\n",
    "        print(f\"Adding {requested_topping}\")\n",
    "print(\"\\nFinished making your pizza!\")\n",
    "#老是忘记判断句是==，两个= 是判断，一个=是赋值！！！！！"
   ]
  },
  {
   "cell_type": "code",
   "execution_count": 96,
   "metadata": {},
   "outputs": [
    {
     "name": "stdout",
     "output_type": "stream",
     "text": [
      "Are you sure you want a plain pizza?\n"
     ]
    }
   ],
   "source": [
    "requested_toppings = []\n",
    "if requested_toppings:\n",
    "    for requested_topping in requested_toppings:\n",
    "         print(f\"Adding {requested_topping}\")\n",
    "    print(\"\\nFinished making your pizza!\")\n",
    "else:\n",
    "    print(\"Are you sure you want a plain pizza?\")\n",
    "#此处将列表名作为条件表达式，这样的话，有元素时返回True，并执行if 下的条件,无元素时返回False，执行else下的元素。所以说其实这个条件表达式问的是列表空不空\n",
    "    "
   ]
  },
  {
   "cell_type": "code",
   "execution_count": 98,
   "metadata": {},
   "outputs": [
    {
     "name": "stdout",
     "output_type": "stream",
     "text": [
      "Adding mushrooms.\n",
      "Sorry, we'dont have french fries.\n",
      "Adding extra cheese.\n",
      "\n",
      "Finished making your pizza!\n"
     ]
    }
   ],
   "source": [
    "available_toppings = ['mushrooms','olives','green peppers','pepperoni','pineapple','extra cheese']\n",
    "requested_toppings = ['mushrooms','french fries','extra cheese']\n",
    "for requested_topping in requested_toppings:\n",
    "    if requested_topping in available_toppings:\n",
    "        print(f\"Adding {requested_topping}.\")\n",
    "    else:\n",
    "        print(f\"Sorry, we'dont have {requested_topping}.\")\n",
    "print(\"\\nFinished making your pizza!\")\n",
    "              "
   ]
  },
  {
   "cell_type": "code",
   "execution_count": 100,
   "metadata": {},
   "outputs": [
    {
     "name": "stdout",
     "output_type": "stream",
     "text": [
      "Hello meanda, thank you for logging in again\n",
      "Hello admin, would you like to see a status report?\n",
      "Hello mike, thank you for logging in again\n",
      "Hello amber, thank you for logging in again\n",
      "Hello jaden, thank you for logging in again\n"
     ]
    }
   ],
   "source": [
    "users = ['meanda','admin','mike','amber','jaden']\n",
    "for user in users:\n",
    "    if user == 'admin':\n",
    "        print(\"Hello admin, would you like to see a status report?\")\n",
    "    else:\n",
    "        print(f\"Hello {user}, thank you for logging in again\")\n"
   ]
  },
  {
   "cell_type": "code",
   "execution_count": 102,
   "metadata": {},
   "outputs": [
    {
     "name": "stdout",
     "output_type": "stream",
     "text": [
      "Fine!\n"
     ]
    }
   ],
   "source": [
    "if users:\n",
    "    print(\"Fine!\")\n",
    "else:\n",
    "    print(\"We need to find some users!\")\n"
   ]
  },
  {
   "cell_type": "code",
   "execution_count": 106,
   "metadata": {},
   "outputs": [],
   "source": [
    "users = users[0:0]"
   ]
  },
  {
   "cell_type": "code",
   "execution_count": 107,
   "metadata": {},
   "outputs": [
    {
     "name": "stdout",
     "output_type": "stream",
     "text": [
      "We need to find some users!\n"
     ]
    }
   ],
   "source": [
    "if users:\n",
    "    print(\"Fine!\")\n",
    "else:\n",
    "    print(\"We need to find some users!\")"
   ]
  },
  {
   "cell_type": "code",
   "execution_count": 109,
   "metadata": {},
   "outputs": [
    {
     "name": "stdout",
     "output_type": "stream",
     "text": [
      "This name was used.\n",
      "This name was used.\n",
      "This name is not applied.\n"
     ]
    }
   ],
   "source": [
    "current_users = ['Meanda','admin','Mike','Amber','Jaden']\n",
    "new_users = ['meanda','admin','gamber']\n",
    "for new_user in new_users:\n",
    "    if new_user in current_users:\n",
    "        print(\"This name was used.\")\n",
    "    else:\n",
    "        print(\"This name is not applied.\")"
   ]
  },
  {
   "cell_type": "code",
   "execution_count": 113,
   "metadata": {},
   "outputs": [
    {
     "name": "stdout",
     "output_type": "stream",
     "text": [
      "['meanda', 'admin', 'mike', 'amber', 'jaden']\n",
      "This name was used.\n",
      "This name was used.\n",
      "This name was used.\n"
     ]
    }
   ],
   "source": [
    "current_users_copy = current_users[:]\n",
    "for user in current_users_copy:\n",
    "    user = user.lower()\n",
    "print(current_users_copy)\n",
    "\n",
    "new_users = ['meanda','admin','gamber']\n",
    "for new_user in new_users:\n",
    "    if new_user in current_users or current_users_copy:\n",
    "        print(\"This name was used.\")\n",
    "    else:\n",
    "        print(\"This name is not applied.\")"
   ]
  },
  {
   "cell_type": "code",
   "execution_count": 115,
   "metadata": {},
   "outputs": [
    {
     "name": "stdout",
     "output_type": "stream",
     "text": [
      "1\n",
      "2\n",
      "3\n",
      "4\n",
      "5\n",
      "6\n",
      "7\n",
      "8\n",
      "9\n"
     ]
    }
   ],
   "source": [
    "list = range(1,10)\n",
    "for number in list:\n",
    "    print(number)\n",
    "    "
   ]
  },
  {
   "cell_type": "code",
   "execution_count": 118,
   "metadata": {},
   "outputs": [
    {
     "name": "stdout",
     "output_type": "stream",
     "text": [
      "1st\n",
      "2nd\n",
      "3rd\n",
      "4th\n",
      "5th\n",
      "6th\n",
      "7th\n",
      "8th\n",
      "9th\n"
     ]
    }
   ],
   "source": [
    "for number in list:\n",
    "    if number == 1:\n",
    "        print(\"1st\")\n",
    "    elif number ==2:\n",
    "        print(\"2nd\")\n",
    "    elif number ==3:\n",
    "        print(\"3rd\")\n",
    "    elif number >=4:\n",
    "        print(f\"{number}th\")"
   ]
  },
  {
   "cell_type": "code",
   "execution_count": null,
   "metadata": {},
   "outputs": [],
   "source": []
  }
 ],
 "metadata": {
  "kernelspec": {
   "display_name": "Python 3",
   "language": "python",
   "name": "python3"
  },
  "language_info": {
   "codemirror_mode": {
    "name": "ipython",
    "version": 3
   },
   "file_extension": ".py",
   "mimetype": "text/x-python",
   "name": "python",
   "nbconvert_exporter": "python",
   "pygments_lexer": "ipython3",
   "version": "3.8.3"
  }
 },
 "nbformat": 4,
 "nbformat_minor": 4
}
