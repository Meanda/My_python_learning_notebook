{
 "cells": [
  {
   "cell_type": "code",
   "execution_count": 1,
   "metadata": {},
   "outputs": [],
   "source": [
    "class Dog:\n",
    "    \"\"\"一次模拟小狗的简单尝试。\"\"\"\n",
    "    def __init__(self,name,age):\n",
    "        \"\"\"初始化属性name和age.\"\"\"\n",
    "        self.name = name\n",
    "        self.age = age\n",
    "        \n",
    "    def sit(self):\n",
    "        \"\"\"模拟小狗收到命令时蹲下。\"\"\"\n",
    "        print(f\"{self.name} is now sitting.\")\n",
    "        \n",
    "    def roll_over(self):\n",
    "        \"\"\"模拟小狗收到命令时打滚\"\"\"\n",
    "        print(f\"{self.name} rolled over!\")\n",
    "\n",
    "# __init__ 这两个双杠证明这不是普通的init，如果不加双杠，就不会进来之后自动调用了。\n",
    "#self 必须在其他形参前面，指向实例本身的引用，让实例能够访问类中的属性和方法。以self.为前缀的变量可以供类中的所有方法使用。、\n",
    "\n",
    "              "
   ]
  },
  {
   "cell_type": "code",
   "execution_count": 2,
   "metadata": {},
   "outputs": [
    {
     "name": "stdout",
     "output_type": "stream",
     "text": [
      "My dog's name is willie.\n",
      "My dog is 6 years old.\n"
     ]
    }
   ],
   "source": [
    "my_dog = Dog('willie',6)\n",
    "print(f\"My dog's name is {my_dog.name}.\")\n",
    "print(f\"My dog is {my_dog.age} years old.\")"
   ]
  },
  {
   "cell_type": "code",
   "execution_count": 3,
   "metadata": {},
   "outputs": [
    {
     "data": {
      "text/plain": [
       "'willie'"
      ]
     },
     "execution_count": 3,
     "metadata": {},
     "output_type": "execute_result"
    }
   ],
   "source": [
    "my_dog.name"
   ]
  },
  {
   "cell_type": "code",
   "execution_count": 4,
   "metadata": {},
   "outputs": [
    {
     "name": "stdout",
     "output_type": "stream",
     "text": [
      "willie is now sitting.\n",
      "willie rolled over!\n"
     ]
    }
   ],
   "source": [
    "my_dog.sit()\n",
    "my_dog.roll_over()"
   ]
  },
  {
   "cell_type": "code",
   "execution_count": 5,
   "metadata": {},
   "outputs": [
    {
     "name": "stdout",
     "output_type": "stream",
     "text": [
      "My dog's name is Willie.\n",
      "My dog is 6 years old.\n",
      "Willie is now sitting.\n",
      "\n",
      "Your dog's name is Lucy.\n",
      "Your dog is 3 years old.\n",
      "Lucy is now sitting.\n"
     ]
    }
   ],
   "source": [
    "my_dog = Dog('Willie',6)\n",
    "your_dog = Dog('Lucy',3)\n",
    "print(f\"My dog's name is {my_dog.name}.\")\n",
    "print(f\"My dog is {my_dog.age} years old.\")\n",
    "my_dog.sit()\n",
    "\n",
    "print(f\"\\nYour dog's name is {your_dog.name}.\")\n",
    "print(f\"Your dog is {your_dog.age} years old.\")\n",
    "your_dog.sit()"
   ]
  },
  {
   "cell_type": "code",
   "execution_count": 40,
   "metadata": {},
   "outputs": [
    {
     "name": "stdout",
     "output_type": "stream",
     "text": [
      "willie offers spanish.\n",
      "willie is open now.\n",
      "the number of customer is 25.\n",
      "the number of customer is 28.\n"
     ]
    }
   ],
   "source": [
    "class Restaurant:\n",
    "    \"\"\"初始化属性\"\"\"\n",
    "    def __init__(self,name,cuisine_type):\n",
    "        self.name = name\n",
    "        self.cuisine_type = cuisine_type\n",
    "        self.number_served = 0\n",
    "        \n",
    "    def describe(self):\n",
    "        \"\"\"描述餐厅的名字和菜单。\"\"\"\n",
    "        print(f\"{self.name} offers {self.cuisine_type}.\")\n",
    "    \n",
    "    def open_res(self):\n",
    "        \"\"\"说明餐厅正在开业\"\"\"\n",
    "        print(f\"{self.name} is open now.\")\n",
    "        \n",
    "    def set_number_served(self,customer_number):\n",
    "        self.customer_number = customer_number\n",
    "        print(f\"the number of customer is {customer_number}.\")\n",
    "        \n",
    "    def increment_number_served(self,number):\n",
    "        self.customer_number += number\n",
    "        print(f\"the number of customer is {self.customer_number}.\")\n",
    "        \n",
    "restaurant_1 = Restaurant('willie','spanish')\n",
    "restaurant_1.describe()\n",
    "restaurant_1.open_res()\n",
    "restaurant_1.set_number_served(25)\n",
    "restaurant_1.increment_number_served(3)\n",
    "        "
   ]
  },
  {
   "cell_type": "code",
   "execution_count": 13,
   "metadata": {},
   "outputs": [
    {
     "name": "stdout",
     "output_type": "stream",
     "text": [
      "battle offers japanese.\n"
     ]
    }
   ],
   "source": [
    "restaurant_2 = Restaurant('battle','japanese')\n",
    "restaurant_2.describe()"
   ]
  },
  {
   "cell_type": "code",
   "execution_count": 14,
   "metadata": {},
   "outputs": [
    {
     "name": "stdout",
     "output_type": "stream",
     "text": [
      "subaru is open now.\n"
     ]
    }
   ],
   "source": [
    "restaurant_3 = Restaurant('subaru','chinese')\n",
    "restaurant_3.open_res()"
   ]
  },
  {
   "cell_type": "code",
   "execution_count": 55,
   "metadata": {},
   "outputs": [],
   "source": [
    "class User:\n",
    "    def __init__(self,first_name,last_name):\n",
    "        \"\"\"初始化属性\"\"\"\n",
    "        self.first_name = first_name\n",
    "        self.last_name = last_name\n",
    "        self.login_attempts = 0\n",
    "\n",
    "    def des_user(self):\n",
    "        \"\"\"描述用户\"\"\"\n",
    "        print(f\"User's name is {self.first_name.title()} {self.last_name.title()}.\")\n",
    "        \n",
    "    def greet_user(self):\n",
    "        \"\"\"欢迎用户\"\"\"\n",
    "        print(f\"Hello, {self.first_name.title()}.\")\n",
    "\n",
    "    def increment_login_attempts(self,number):\n",
    "        self.login_attempts += number\n",
    "        print(f\"user attempts login for {self.login_attempts} times.\")\n",
    "        \n",
    "    def reset_login_attempts(self,login_attempts):\n",
    "        if self.login_attempts > 0:\n",
    "            self.login_attempts = 0\n",
    "        print(f\"user's login attempts is resetted to {self.login_attempts}.\")\n",
    "        \n",
    "        \n",
    "    \n"
   ]
  },
  {
   "cell_type": "code",
   "execution_count": 56,
   "metadata": {},
   "outputs": [
    {
     "name": "stdout",
     "output_type": "stream",
     "text": [
      "User's name is Meanda Zhang.\n",
      "Hello, Meanda.\n",
      "user attempts login for 5 times.\n",
      "user's login attempts is resetted to 0.\n"
     ]
    }
   ],
   "source": [
    "user_1 = User('meanda','zhang')\n",
    "user_1.des_user()\n",
    "user_1.greet_user()\n",
    "user_1.increment_login_attempts(5)\n",
    "user_1.reset_login_attempts(5)"
   ]
  },
  {
   "cell_type": "code",
   "execution_count": 18,
   "metadata": {},
   "outputs": [
    {
     "name": "stdout",
     "output_type": "stream",
     "text": [
      "User's name is Amber Gui.\n",
      "Hello, Amber.\n"
     ]
    }
   ],
   "source": [
    "user_2 = User('amber','gui')\n",
    "user_2.des_user()\n",
    "user_2.greet_user()"
   ]
  },
  {
   "cell_type": "code",
   "execution_count": 21,
   "metadata": {},
   "outputs": [
    {
     "name": "stdout",
     "output_type": "stream",
     "text": [
      "2019 Audi A4\n",
      "This car has 0 miles on it.\n"
     ]
    }
   ],
   "source": [
    "class Car:\n",
    "    \"\"\"一次模拟汽车的简单尝试。\"\"\"\n",
    "    \n",
    "    def __init__(self,make,model,year):\n",
    "        \"\"\"初始化描述汽车的属性。\"\"\"\n",
    "        self.make = make\n",
    "        self.model = model\n",
    "        self.year = year\n",
    "        self.odometer_reading = 0\n",
    "    \n",
    "    def get_descriptive_name(self):\n",
    "        \"\"\"返回整洁的描述性信息\"\"\"\n",
    "        long_name = f\"{self.year} {self.make} {self.model}\"\n",
    "        return long_name.title()\n",
    "    \n",
    "    def read_odometer(self):\n",
    "        \"\"\"打印一条指出骑车里程的消息。\"\"\"\n",
    "        print(f\"This car has {self.odometer_reading} miles on it.\")\n",
    "        \n",
    "my_new_car = Car('audi','a4',2019)\n",
    "print(my_new_car.get_descriptive_name())\n",
    "my_new_car.read_odometer()"
   ]
  },
  {
   "cell_type": "code",
   "execution_count": 23,
   "metadata": {},
   "outputs": [
    {
     "name": "stdout",
     "output_type": "stream",
     "text": [
      "This car has 23 miles on it.\n"
     ]
    }
   ],
   "source": [
    "my_new_car.odometer_reading = 23\n",
    "my_new_car.read_odometer()"
   ]
  },
  {
   "cell_type": "code",
   "execution_count": 24,
   "metadata": {},
   "outputs": [
    {
     "name": "stdout",
     "output_type": "stream",
     "text": [
      "2019 Audi A4\n",
      "This car has 23 miles on it.\n"
     ]
    }
   ],
   "source": [
    "class Car:\n",
    "    \"\"\"一次模拟汽车的简单尝试。\"\"\"\n",
    "    \n",
    "    def __init__(self,make,model,year):\n",
    "        \"\"\"初始化描述汽车的属性。\"\"\"\n",
    "        self.make = make\n",
    "        self.model = model\n",
    "        self.year = year\n",
    "        self.odometer_reading = 0\n",
    "    \n",
    "    def get_descriptive_name(self):\n",
    "        \"\"\"返回整洁的描述性信息\"\"\"\n",
    "        long_name = f\"{self.year} {self.make} {self.model}\"\n",
    "        return long_name.title()\n",
    "    \n",
    "    def read_odometer(self):\n",
    "        \"\"\"打印一条指出骑车里程的消息。\"\"\"\n",
    "        print(f\"This car has {self.odometer_reading} miles on it.\")\n",
    "\n",
    "    def update_odometer(self, mileage):\n",
    "        \"\"\"将里程表读数设置为指定的值。\"\"\"\n",
    "        self.odometer_reading = mileage\n",
    "        \n",
    "my_new_car = Car('audi','a4',2019)\n",
    "print(my_new_car.get_descriptive_name())\n",
    "\n",
    "my_new_car.update_odometer(23)\n",
    "my_new_car.read_odometer()\n"
   ]
  },
  {
   "cell_type": "code",
   "execution_count": 28,
   "metadata": {},
   "outputs": [
    {
     "name": "stdout",
     "output_type": "stream",
     "text": [
      "This car has 23 miles on it.\n",
      "You can't roll back an odometer!\n",
      "This car has 23 miles on it.\n"
     ]
    }
   ],
   "source": [
    "class Car:\n",
    "    \"\"\"一次模拟汽车的简单尝试。\"\"\"\n",
    "    \n",
    "    def __init__(self,make,model,year):\n",
    "        \"\"\"初始化描述汽车的属性。\"\"\"\n",
    "        self.make = make\n",
    "        self.model = model\n",
    "        self.year = year\n",
    "        self.odometer_reading = 0\n",
    "    \n",
    "    def get_descriptive_name(self):\n",
    "        \"\"\"返回整洁的描述性信息\"\"\"\n",
    "        long_name = f\"{self.year} {self.make} {self.model}\"\n",
    "        return long_name.title()\n",
    "    \n",
    "    def read_odometer(self):\n",
    "        \"\"\"打印一条指出骑车里程的消息。\"\"\"\n",
    "        print(f\"This car has {self.odometer_reading} miles on it.\")\n",
    "\n",
    "    def update_odometer(self, mileage):\n",
    "        \"\"\"\n",
    "        将里程表读数设置为指定的值。\n",
    "        禁止将里程表读数往回调\n",
    "        \"\"\"\n",
    "        if mileage >= self.odometer_reading:\n",
    "            self.odometer_reading = mileage\n",
    "        else:\n",
    "            print(\"You can't roll back an odometer!\")\n",
    "            \n",
    "my_new_car = Car('audi','a4',2019)    \n",
    "my_new_car.update_odometer(23)\n",
    "my_new_car.read_odometer()\n",
    "\n",
    "my_new_car.update_odometer(22)\n",
    "my_new_car.read_odometer()"
   ]
  },
  {
   "cell_type": "code",
   "execution_count": 31,
   "metadata": {},
   "outputs": [
    {
     "name": "stdout",
     "output_type": "stream",
     "text": [
      "2015 Subaru Outback\n",
      "This car has 23500 miles on it.\n",
      "This car has 23600 miles on it.\n"
     ]
    }
   ],
   "source": [
    "class Car:\n",
    "    \"\"\"一次模拟汽车的简单尝试。\"\"\"\n",
    "    \n",
    "    def __init__(self,make,model,year):\n",
    "        \"\"\"初始化描述汽车的属性。\"\"\"\n",
    "        self.make = make\n",
    "        self.model = model\n",
    "        self.year = year\n",
    "        self.odometer_reading = 0\n",
    "        \n",
    "        \n",
    "    def get_descriptive_name(self):\n",
    "        \"\"\"返回整洁的描述性信息\"\"\"\n",
    "        long_name = f\"{self.year} {self.make} {self.model}\"\n",
    "        return long_name.title()\n",
    "    \n",
    "    def read_odometer(self):\n",
    "        \"\"\"打印一条指出骑车里程的消息。\"\"\"\n",
    "        print(f\"This car has {self.odometer_reading} miles on it.\")\n",
    "\n",
    "    def update_odometer(self, mileage):\n",
    "        \"\"\"\n",
    "        将里程表读数设置为指定的值。\n",
    "        禁止将里程表读数往回调\n",
    "        \"\"\"\n",
    "        if mileage >= self.odometer_reading:\n",
    "            self.odometer_reading = mileage\n",
    "        else:\n",
    "            print(\"You can't roll back an odometer!\")\n",
    "            \n",
    "    def increment_odometer(self,miles):\n",
    "        \"\"\"将里程表换成指定的量。\"\"\"\n",
    "        if miles > 0:\n",
    "            self.odometer_reading += miles\n",
    "            \n",
    "    \n",
    "        \n",
    "my_used_car = Car('subaru','outback',2015)\n",
    "print(my_used_car.get_descriptive_name())\n",
    "\n",
    "my_used_car.update_odometer(23_500)\n",
    "my_used_car.read_odometer()\n",
    "\n",
    "my_used_car.increment_odometer(100)\n",
    "my_used_car.read_odometer()\n",
    "\n"
   ]
  },
  {
   "cell_type": "code",
   "execution_count": null,
   "metadata": {},
   "outputs": [],
   "source": [
    "n"
   ]
  }
 ],
 "metadata": {
  "kernelspec": {
   "display_name": "Python 3",
   "language": "python",
   "name": "python3"
  },
  "language_info": {
   "codemirror_mode": {
    "name": "ipython",
    "version": 3
   },
   "file_extension": ".py",
   "mimetype": "text/x-python",
   "name": "python",
   "nbconvert_exporter": "python",
   "pygments_lexer": "ipython3",
   "version": "3.8.3"
  }
 },
 "nbformat": 4,
 "nbformat_minor": 4
}
